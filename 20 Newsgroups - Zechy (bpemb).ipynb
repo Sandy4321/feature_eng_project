{
 "cells": [
  {
   "cell_type": "markdown",
   "id": "cd6bdbcf",
   "metadata": {},
   "source": [
    "### 20 Newsgroups Experiment:\n",
    "\n",
    "- Vector + BOW features vs. Pure BOW features\n",
    "- Minimal pre-processing"
   ]
  },
  {
   "cell_type": "markdown",
   "id": "a3e51263",
   "metadata": {},
   "source": [
    "# Load Dataset"
   ]
  },
  {
   "cell_type": "code",
   "execution_count": 1,
   "id": "7c4d0622",
   "metadata": {
    "ExecuteTime": {
     "end_time": "2021-06-17T09:20:33.215263Z",
     "start_time": "2021-06-17T09:20:31.864858Z"
    }
   },
   "outputs": [],
   "source": [
    "import sklearn.datasets\n",
    "\n",
    "all_categories = [\n",
    "    \"alt.atheism\",\n",
    "    \"comp.graphics\",\n",
    "    \"comp.os.ms-windows.misc\",\n",
    "    \"comp.sys.ibm.pc.hardware\",\n",
    "    \"comp.sys.mac.hardware\",\n",
    "    \"comp.windows.x\",\n",
    "    \"misc.forsale\",\n",
    "    \"rec.autos\",\n",
    "    \"rec.motorcycles\",\n",
    "    \"rec.sport.baseball\",\n",
    "    \"rec.sport.hockey\",\n",
    "    \"sci.crypt\",\n",
    "    \"sci.electronics\",\n",
    "    \"sci.med\",\n",
    "    \"sci.space\",\n",
    "    \"soc.religion.christian\",\n",
    "    \"talk.politics.guns\",\n",
    "    \"talk.politics.mideast\",\n",
    "    \"talk.politics.misc\",\n",
    "    \"talk.religion.misc\",\n",
    "]\n",
    "categories = all_categories\n",
    "# categories = [\"alt.atheism\", \"comp.graphics\", \"rec.autos\", \"sci.space\", \"talk.religion.misc\"]\n",
    "\n",
    "# newsgroups_full = sklearn.datasets.load_files(\"20news_noDup\", encoding=\"ANSI\")\n",
    "newsgroups_train = sklearn.datasets.fetch_20newsgroups(\n",
    "    subset=\"train\", remove=(\"headers\",), categories=categories, shuffle=False\n",
    ")\n",
    "newsgroups_test = sklearn.datasets.fetch_20newsgroups(\n",
    "    subset=\"test\", remove=(\"headers\",), categories=categories, shuffle=False\n",
    ")"
   ]
  },
  {
   "cell_type": "code",
   "execution_count": 2,
   "id": "d9eb4c05",
   "metadata": {
    "ExecuteTime": {
     "end_time": "2021-06-17T09:20:33.294827Z",
     "start_time": "2021-06-17T09:20:33.216266Z"
    }
   },
   "outputs": [],
   "source": [
    "from tqdm.auto import tqdm"
   ]
  },
  {
   "cell_type": "code",
   "execution_count": 3,
   "id": "fdeaa7cd",
   "metadata": {
    "ExecuteTime": {
     "end_time": "2021-06-17T09:20:33.310792Z",
     "start_time": "2021-06-17T09:20:33.296818Z"
    }
   },
   "outputs": [],
   "source": [
    "import numpy as np"
   ]
  },
  {
   "cell_type": "code",
   "execution_count": 4,
   "id": "81e7c48e",
   "metadata": {
    "ExecuteTime": {
     "end_time": "2021-06-17T09:20:34.138700Z",
     "start_time": "2021-06-17T09:20:33.312792Z"
    }
   },
   "outputs": [],
   "source": [
    "import pandas as pd\n",
    "\n",
    "train_df = pd.DataFrame(data=[newsgroups_train.data, newsgroups_train.target]).T\n",
    "test_df = pd.DataFrame(data=[newsgroups_test.data, newsgroups_test.target]).T\n",
    "\n",
    "for df in [train_df, test_df]:\n",
    "    df.columns = [\"text\", \"target\"]\n",
    "    df[\"text\"] = df[\"text\"].astype(\"string\")\n",
    "    # VW multiclass: Target cannot be 0\n",
    "    df[\"target\"] = [x + 1 for x in df[\"target\"]]"
   ]
  },
  {
   "cell_type": "code",
   "execution_count": 22,
   "id": "c3417a2c",
   "metadata": {
    "ExecuteTime": {
     "end_time": "2021-06-17T09:51:09.915609Z",
     "start_time": "2021-06-17T09:51:08.950514Z"
    }
   },
   "outputs": [
    {
     "data": {
      "text/html": [
       "<div>\n",
       "<style scoped>\n",
       "    .dataframe tbody tr th:only-of-type {\n",
       "        vertical-align: middle;\n",
       "    }\n",
       "\n",
       "    .dataframe tbody tr th {\n",
       "        vertical-align: top;\n",
       "    }\n",
       "\n",
       "    .dataframe thead th {\n",
       "        text-align: right;\n",
       "    }\n",
       "</style>\n",
       "<table border=\"1\" class=\"dataframe\">\n",
       "  <thead>\n",
       "    <tr style=\"text-align: right;\">\n",
       "      <th></th>\n",
       "      <th>text</th>\n",
       "      <th>target</th>\n",
       "      <th>vectorised</th>\n",
       "    </tr>\n",
       "  </thead>\n",
       "  <tbody>\n",
       "    <tr>\n",
       "      <th>0</th>\n",
       "      <td>gajarsky@pilot.njin.net writes:\n",
       "\n",
       "morgan and g...</td>\n",
       "      <td>10</td>\n",
       "      <td>[(▁gaj, [0.321606, 0.108409, -0.240523, -0.208...</td>\n",
       "    </tr>\n",
       "    <tr>\n",
       "      <th>1</th>\n",
       "      <td>Well, I just got my Centris 610 yesterday.  ...</td>\n",
       "      <td>5</td>\n",
       "      <td>[(▁well, [0.024367, -0.0046, 0.135297, 0.00219...</td>\n",
       "    </tr>\n",
       "    <tr>\n",
       "      <th>2</th>\n",
       "      <td>Archive-name: cryptography-faq/part10\n",
       "Last-mod...</td>\n",
       "      <td>12</td>\n",
       "      <td>[(▁archive, [0.312358, -0.565265, 0.338044, -0...</td>\n",
       "    </tr>\n",
       "    <tr>\n",
       "      <th>3</th>\n",
       "      <td>&gt; ATTENTION: Mac Quadra owners: Many storage i...</td>\n",
       "      <td>5</td>\n",
       "      <td>[(▁, [-0.643406, -0.245415, -0.161094, -0.0333...</td>\n",
       "    </tr>\n",
       "    <tr>\n",
       "      <th>4</th>\n",
       "      <td>bobbe@vice.ICO.TEK.COM (Robert Beauchaine) wri...</td>\n",
       "      <td>1</td>\n",
       "      <td>[(▁bob, [-0.039117, -0.57734, 0.397217, -0.034...</td>\n",
       "    </tr>\n",
       "    <tr>\n",
       "      <th>...</th>\n",
       "      <td>...</td>\n",
       "      <td>...</td>\n",
       "      <td>...</td>\n",
       "    </tr>\n",
       "    <tr>\n",
       "      <th>95</th>\n",
       "      <td>smith@pell.anu.edu.au (Michael Smith) writes:\n",
       "...</td>\n",
       "      <td>5</td>\n",
       "      <td>[(▁smith, [0.05963, -0.0852, 0.530824, -0.2427...</td>\n",
       "    </tr>\n",
       "    <tr>\n",
       "      <th>96</th>\n",
       "      <td>In article &lt;1qkqrhINNobc@matt.ksu.ksu.edu&gt; ken...</td>\n",
       "      <td>3</td>\n",
       "      <td>[(▁in, [-0.121403, -0.19953, -0.167232, -0.238...</td>\n",
       "    </tr>\n",
       "    <tr>\n",
       "      <th>97</th>\n",
       "      <td>In article &lt;C5L5x0.KJ7@vcd.hp.com&gt; johne@vcd.h...</td>\n",
       "      <td>13</td>\n",
       "      <td>[(▁in, [-0.121403, -0.19953, -0.167232, -0.238...</td>\n",
       "    </tr>\n",
       "    <tr>\n",
       "      <th>98</th>\n",
       "      <td>&gt;Les Bartel's comments:\n",
       "&gt;&gt;&gt;&gt;Sorry I can't help...</td>\n",
       "      <td>8</td>\n",
       "      <td>[(▁, [-0.643406, -0.245415, -0.161094, -0.0333...</td>\n",
       "    </tr>\n",
       "    <tr>\n",
       "      <th>99</th>\n",
       "      <td>&gt; Top Ten Signs That It's the Age of Aquari...</td>\n",
       "      <td>19</td>\n",
       "      <td>[(▁, [-0.643406, -0.245415, -0.161094, -0.0333...</td>\n",
       "    </tr>\n",
       "  </tbody>\n",
       "</table>\n",
       "<p>100 rows × 3 columns</p>\n",
       "</div>"
      ],
      "text/plain": [
       "                                                 text  target  \\\n",
       "0   \n",
       "gajarsky@pilot.njin.net writes:\n",
       "\n",
       "morgan and g...      10   \n",
       "1   \n",
       "\tWell, I just got my Centris 610 yesterday.  ...       5   \n",
       "2   Archive-name: cryptography-faq/part10\n",
       "Last-mod...      12   \n",
       "3   > ATTENTION: Mac Quadra owners: Many storage i...       5   \n",
       "4   bobbe@vice.ICO.TEK.COM (Robert Beauchaine) wri...       1   \n",
       "..                                                ...     ...   \n",
       "95  smith@pell.anu.edu.au (Michael Smith) writes:\n",
       "...       5   \n",
       "96  In article <1qkqrhINNobc@matt.ksu.ksu.edu> ken...       3   \n",
       "97  In article <C5L5x0.KJ7@vcd.hp.com> johne@vcd.h...      13   \n",
       "98  >Les Bartel's comments:\n",
       ">>>>Sorry I can't help...       8   \n",
       "99  \n",
       "\n",
       "\n",
       "> Top Ten Signs That It's the Age of Aquari...      19   \n",
       "\n",
       "                                           vectorised  \n",
       "0   [(▁gaj, [0.321606, 0.108409, -0.240523, -0.208...  \n",
       "1   [(▁well, [0.024367, -0.0046, 0.135297, 0.00219...  \n",
       "2   [(▁archive, [0.312358, -0.565265, 0.338044, -0...  \n",
       "3   [(▁, [-0.643406, -0.245415, -0.161094, -0.0333...  \n",
       "4   [(▁bob, [-0.039117, -0.57734, 0.397217, -0.034...  \n",
       "..                                                ...  \n",
       "95  [(▁smith, [0.05963, -0.0852, 0.530824, -0.2427...  \n",
       "96  [(▁in, [-0.121403, -0.19953, -0.167232, -0.238...  \n",
       "97  [(▁in, [-0.121403, -0.19953, -0.167232, -0.238...  \n",
       "98  [(▁, [-0.643406, -0.245415, -0.161094, -0.0333...  \n",
       "99  [(▁, [-0.643406, -0.245415, -0.161094, -0.0333...  \n",
       "\n",
       "[100 rows x 3 columns]"
      ]
     },
     "execution_count": 22,
     "metadata": {},
     "output_type": "execute_result"
    }
   ],
   "source": [
    "# Preview first 100 rows\n",
    "train_df[:100]"
   ]
  },
  {
   "cell_type": "markdown",
   "id": "829e0fe4",
   "metadata": {},
   "source": [
    "# Add Token Vectors"
   ]
  },
  {
   "cell_type": "code",
   "execution_count": 6,
   "id": "ecab6ddd",
   "metadata": {
    "ExecuteTime": {
     "end_time": "2021-06-17T09:20:35.949987Z",
     "start_time": "2021-06-17T09:20:34.174350Z"
    }
   },
   "outputs": [
    {
     "name": "stdout",
     "output_type": "stream",
     "text": [
      "BPEmb fallback: en from vocab size 1000000 to 200000\n"
     ]
    },
    {
     "name": "stderr",
     "output_type": "stream",
     "text": [
      "c:\\users\\zechy.wong.ke\\.virtualenvs\\feature_eng_project-ced_n_lc\\lib\\site-packages\\gensim\\similarities\\__init__.py:15: UserWarning: The gensim.similarities.levenshtein submodule is disabled, because the optional Levenshtein package <https://pypi.org/project/python-Levenshtein/> is unavailable. Install Levenhstein (e.g. `pip install python-Levenshtein`) to suppress this warning.\n",
      "  warnings.warn(msg)\n"
     ]
    }
   ],
   "source": [
    "from bpemb import BPEmb\n",
    "\n",
    "multibpemb = BPEmb(lang=\"en\", vs=1000000, dim=300)"
   ]
  },
  {
   "cell_type": "code",
   "execution_count": 7,
   "id": "dd67897d",
   "metadata": {
    "ExecuteTime": {
     "end_time": "2021-06-17T09:20:35.965869Z",
     "start_time": "2021-06-17T09:20:35.950862Z"
    }
   },
   "outputs": [],
   "source": [
    "import pickle"
   ]
  },
  {
   "cell_type": "code",
   "execution_count": 8,
   "id": "a8e9082c",
   "metadata": {
    "ExecuteTime": {
     "end_time": "2021-06-17T09:21:16.276116Z",
     "start_time": "2021-06-17T09:20:35.968873Z"
    }
   },
   "outputs": [
    {
     "data": {
      "application/json": {
       "ascii": false,
       "bar_format": null,
       "colour": null,
       "elapsed": 0.015999794006347656,
       "initial": 0,
       "n": 0,
       "ncols": null,
       "nrows": null,
       "postfix": null,
       "prefix": "",
       "rate": null,
       "total": 11314,
       "unit": "it",
       "unit_divisor": 1000,
       "unit_scale": false
      },
      "application/vnd.jupyter.widget-view+json": {
       "model_id": "12e9d10541d04fa9a75c128b31e7fdd0",
       "version_major": 2,
       "version_minor": 0
      },
      "text/plain": [
       "  0%|          | 0/11314 [00:00<?, ?it/s]"
      ]
     },
     "metadata": {},
     "output_type": "display_data"
    },
    {
     "data": {
      "application/json": {
       "ascii": false,
       "bar_format": null,
       "colour": null,
       "elapsed": 0,
       "initial": 0,
       "n": 0,
       "ncols": null,
       "nrows": null,
       "postfix": null,
       "prefix": "",
       "rate": null,
       "total": 7532,
       "unit": "it",
       "unit_divisor": 1000,
       "unit_scale": false
      },
      "application/vnd.jupyter.widget-view+json": {
       "model_id": "769b22c7f1ac41a5b7cf2ae7a37faf7f",
       "version_major": 2,
       "version_minor": 0
      },
      "text/plain": [
       "  0%|          | 0/7532 [00:00<?, ?it/s]"
      ]
     },
     "metadata": {},
     "output_type": "display_data"
    }
   ],
   "source": [
    "# Vectorise documents and add to DF\n",
    "for df in [train_df, test_df]:\n",
    "    vectorised_docs = []\n",
    "    for doc in tqdm(df[\"text\"]):\n",
    "        # Normalise whitespace\n",
    "        doc = \" \".join(doc.split())\n",
    "\n",
    "        subwords = multibpemb.encode(doc)\n",
    "        vectors = multibpemb.embed(doc)\n",
    "        vector_tuples = list(zip(subwords, vectors))\n",
    "        vectorised_docs.append(vector_tuples)\n",
    "    df[\"vectorised\"] = vectorised_docs"
   ]
  },
  {
   "cell_type": "code",
   "execution_count": 9,
   "id": "853edf00",
   "metadata": {
    "ExecuteTime": {
     "end_time": "2021-06-17T09:21:16.292087Z",
     "start_time": "2021-06-17T09:21:16.280136Z"
    }
   },
   "outputs": [],
   "source": [
    "# import numpy as np\n",
    "\n",
    "# # Vector normalisation sample:\n",
    "# # The first token in training doc 7033, normalised\n",
    "# vector = train_df[\"vectorised\"][7033][0][1]\n",
    "# norm = np.sqrt(vector.dot(vector))\n",
    "\n",
    "# normalised = (vector / np.linalg.norm(vector) + 1) / 2\n",
    "# norm_2 = (vector / norm + 1) / 2\n",
    "# print(min(vector), max(vector))\n",
    "# print(min(normalised), max(normalised))\n",
    "# print(min(norm_2), max(norm_2))"
   ]
  },
  {
   "cell_type": "markdown",
   "id": "91fd52f6",
   "metadata": {},
   "source": [
    "# Train/Test Split"
   ]
  },
  {
   "cell_type": "code",
   "execution_count": 10,
   "id": "dc1903a8",
   "metadata": {
    "ExecuteTime": {
     "end_time": "2021-06-17T09:21:16.307090Z",
     "start_time": "2021-06-17T09:21:16.296089Z"
    }
   },
   "outputs": [],
   "source": [
    "# import sklearn.model_selection\n",
    "\n",
    "# df_train, df_test = sklearn.model_selection.train_test_split(\n",
    "#     pd_df, test_size=0.25, random_state=1\n",
    "# )\n",
    "\n",
    "# Done automatically by fetch_20newsgroups()."
   ]
  },
  {
   "cell_type": "markdown",
   "id": "b78b478c",
   "metadata": {},
   "source": [
    "# VW"
   ]
  },
  {
   "cell_type": "code",
   "execution_count": 11,
   "id": "707f2369",
   "metadata": {
    "ExecuteTime": {
     "end_time": "2021-06-17T09:21:16.354113Z",
     "start_time": "2021-06-17T09:21:16.310085Z"
    }
   },
   "outputs": [],
   "source": [
    "from vowpalwabbit import pyvw"
   ]
  },
  {
   "cell_type": "code",
   "execution_count": 12,
   "id": "b8255300",
   "metadata": {
    "ExecuteTime": {
     "end_time": "2021-06-17T09:21:16.369116Z",
     "start_time": "2021-06-17T09:21:16.356135Z"
    }
   },
   "outputs": [],
   "source": [
    "# baseline model\n",
    "vw_opts = {\n",
    "    # General options\n",
    "    \"random_seed\": 1,\n",
    "    # Input options\n",
    "    # Output options\n",
    "    \"progress\": 100,\n",
    "    # Example Manipulation options\n",
    "    # Update rule options\n",
    "    \"loss_function\": \"logistic\",\n",
    "    # Weight options\n",
    "    \"bit_precision\": 28,\n",
    "    # Holdout options\n",
    "    # Feature namespace options\n",
    "    # Multiclass options\n",
    "    \"oaa\": len(categories)\n",
    "    # Other options\n",
    "}"
   ]
  },
  {
   "cell_type": "code",
   "execution_count": 13,
   "id": "1bb1c567",
   "metadata": {
    "ExecuteTime": {
     "end_time": "2021-06-17T09:21:16.431199Z",
     "start_time": "2021-06-17T09:21:16.371084Z"
    }
   },
   "outputs": [],
   "source": [
    "# We will run both models at the same time\n",
    "vector_model = pyvw.vw(**vw_opts)\n",
    "bow_model = pyvw.vw(**vw_opts)"
   ]
  },
  {
   "cell_type": "code",
   "execution_count": 14,
   "id": "07b7321f",
   "metadata": {
    "ExecuteTime": {
     "end_time": "2021-06-17T09:21:16.447454Z",
     "start_time": "2021-06-17T09:21:16.435434Z"
    }
   },
   "outputs": [],
   "source": [
    "def doc2namespaces(doc):\n",
    "    \"\"\"\n",
    "    Takes a list of (<text>, <vector>), returns the vector and bow feature strings in VW format\n",
    "    \"\"\"\n",
    "    # Vector namespaces\n",
    "    vector_ns = []\n",
    "\n",
    "    # Pre-processing -- Remove:\n",
    "    # (1) VW special characters\n",
    "    # (2) Duplicate tokens\n",
    "    # (3) Tokens with no alphabetic characters\n",
    "    # Also: Normalise vectors\n",
    "\n",
    "    seen_tokens = set()\n",
    "\n",
    "    # This is the final list of (<text>, <vector>) we will use\n",
    "    clean_vectors = []\n",
    "    for text, vector in doc:\n",
    "        # Handle VW special chars\n",
    "        text = text.replace(\":\", \"\").replace(\"|\", \"\").strip()\n",
    "\n",
    "        if text and text not in seen_tokens and any(char.isalpha() for char in text):\n",
    "            seen_tokens.add(text)\n",
    "\n",
    "            # Normalise vectors\n",
    "            # Vector normalisation into the range [0,1]\n",
    "            norm = np.sqrt(vector.dot(vector))\n",
    "            vector = ((vector / norm) + 1) / 2\n",
    "\n",
    "            clean_vectors.append((text, vector.astype(\"float64\")))\n",
    "\n",
    "    for dimension in range(300):\n",
    "        vector_ns.append(f\"|vector_d{dimension}\")\n",
    "\n",
    "        # List comprehension for building the feature string for this dimension\n",
    "        vector_ns += [f\"{text}:{vector[dimension]}\" for text, vector in clean_vectors]\n",
    "\n",
    "    # BOW namespace\n",
    "    bow_features = [text for text, _ in clean_vectors]\n",
    "    bow_ns = [\"|bow\"] + bow_features\n",
    "\n",
    "    return vector_ns, bow_ns"
   ]
  },
  {
   "cell_type": "code",
   "execution_count": 15,
   "id": "d9db47b4",
   "metadata": {
    "ExecuteTime": {
     "end_time": "2021-06-17T09:39:59.898983Z",
     "start_time": "2021-06-17T09:21:16.451427Z"
    },
    "scrolled": true
   },
   "outputs": [
    {
     "data": {
      "application/json": {
       "ascii": false,
       "bar_format": null,
       "colour": null,
       "elapsed": 0.017999887466430664,
       "initial": 0,
       "n": 0,
       "ncols": null,
       "nrows": null,
       "postfix": null,
       "prefix": "",
       "rate": null,
       "total": 11314,
       "unit": "it",
       "unit_divisor": 1000,
       "unit_scale": false
      },
      "application/vnd.jupyter.widget-view+json": {
       "model_id": "8ebc72beed6b40e4bd3e98af89e538af",
       "version_major": 2,
       "version_minor": 0
      },
      "text/plain": [
       "  0%|          | 0/11314 [00:00<?, ?it/s]"
      ]
     },
     "metadata": {},
     "output_type": "display_data"
    }
   ],
   "source": [
    "# Training\n",
    "for row in tqdm(train_df.itertuples(), total=len(train_df)):\n",
    "    vector_ns, bow_ns = doc2namespaces(row.vectorised)\n",
    "\n",
    "    # Vector model\n",
    "    vw_string_builder = [f\"{row.target}\"] + vector_ns + bow_ns\n",
    "    vw_string = \" \".join(vw_string_builder)\n",
    "    vector_model.learn(vw_string)\n",
    "\n",
    "    # BOW model\n",
    "    vw_string_builder = [f\"{row.target}\"] + bow_ns\n",
    "    vw_string = \" \".join(vw_string_builder)\n",
    "    bow_model.learn(vw_string)"
   ]
  },
  {
   "cell_type": "code",
   "execution_count": 16,
   "id": "ec43a1ef",
   "metadata": {
    "ExecuteTime": {
     "end_time": "2021-06-17T09:48:40.375098Z",
     "start_time": "2021-06-17T09:39:59.947986Z"
    }
   },
   "outputs": [
    {
     "data": {
      "application/json": {
       "ascii": false,
       "bar_format": null,
       "colour": null,
       "elapsed": 0.04687619209289551,
       "initial": 0,
       "n": 0,
       "ncols": null,
       "nrows": null,
       "postfix": null,
       "prefix": "",
       "rate": null,
       "total": 7532,
       "unit": "it",
       "unit_divisor": 1000,
       "unit_scale": false
      },
      "application/vnd.jupyter.widget-view+json": {
       "model_id": "43e7f02e69d845b3874e1f1a25d26efa",
       "version_major": 2,
       "version_minor": 0
      },
      "text/plain": [
       "  0%|          | 0/7532 [00:00<?, ?it/s]"
      ]
     },
     "metadata": {},
     "output_type": "display_data"
    }
   ],
   "source": [
    "# Testing\n",
    "test_labels = test_df[\"target\"]\n",
    "vector_predict = []\n",
    "bow_predict = []\n",
    "\n",
    "for row in tqdm(test_df.itertuples(), total=len(test_df)):\n",
    "    vector_ns, bow_ns = doc2namespaces(row.vectorised)\n",
    "\n",
    "    # Vector model\n",
    "    vw_string_builder = vector_ns + bow_ns\n",
    "    vw_string = \" \".join(vw_string_builder)\n",
    "    vector_predict.append(vector_model.predict(vw_string))\n",
    "\n",
    "    # BOW model\n",
    "    vw_string_builder = bow_ns\n",
    "    vw_string = \" \".join(vw_string_builder)\n",
    "    bow_predict.append(bow_model.predict(vw_string))"
   ]
  },
  {
   "cell_type": "markdown",
   "id": "3c5900ea",
   "metadata": {},
   "source": [
    "# Evaluation"
   ]
  },
  {
   "cell_type": "code",
   "execution_count": 17,
   "id": "ef4c40ca",
   "metadata": {
    "ExecuteTime": {
     "end_time": "2021-06-17T09:48:40.658488Z",
     "start_time": "2021-06-17T09:48:40.375098Z"
    }
   },
   "outputs": [],
   "source": [
    "import sklearn.metrics"
   ]
  },
  {
   "cell_type": "code",
   "execution_count": 18,
   "id": "3196c8c9",
   "metadata": {
    "ExecuteTime": {
     "end_time": "2021-06-17T09:48:40.772876Z",
     "start_time": "2021-06-17T09:48:40.660725Z"
    }
   },
   "outputs": [
    {
     "name": "stdout",
     "output_type": "stream",
     "text": [
      "Classification report (Vector):\n",
      "              precision    recall  f1-score   support\n",
      "\n",
      "           1       0.72      0.72      0.72       319\n",
      "           2       0.64      0.74      0.68       389\n",
      "           3       0.77      0.61      0.68       394\n",
      "           4       0.75      0.62      0.68       392\n",
      "           5       0.74      0.78      0.76       385\n",
      "           6       0.83      0.80      0.81       395\n",
      "           7       0.79      0.86      0.82       390\n",
      "           8       0.87      0.81      0.84       396\n",
      "           9       0.84      0.92      0.88       398\n",
      "          10       0.90      0.90      0.90       397\n",
      "          11       0.92      0.95      0.93       399\n",
      "          12       0.86      0.86      0.86       396\n",
      "          13       0.68      0.68      0.68       393\n",
      "          14       0.84      0.77      0.80       396\n",
      "          15       0.79      0.87      0.83       394\n",
      "          16       0.80      0.88      0.84       398\n",
      "          17       0.75      0.82      0.78       364\n",
      "          18       0.91      0.83      0.87       376\n",
      "          19       0.71      0.58      0.64       310\n",
      "          20       0.57      0.64      0.61       251\n",
      "\n",
      "    accuracy                           0.79      7532\n",
      "   macro avg       0.78      0.78      0.78      7532\n",
      "weighted avg       0.79      0.79      0.79      7532\n",
      "\n",
      "Accuracy score (Vector):\n",
      "0.7882368560807222\n"
     ]
    }
   ],
   "source": [
    "print(\"Classification report (Vector):\")\n",
    "print(\n",
    "    sklearn.metrics.classification_report(\n",
    "        test_labels[: len(vector_predict)], vector_predict\n",
    "    )\n",
    ")\n",
    "print(\"Accuracy score (Vector):\")\n",
    "print(\n",
    "    sklearn.metrics.accuracy_score(test_labels[: len(vector_predict)], vector_predict)\n",
    ")"
   ]
  },
  {
   "cell_type": "code",
   "execution_count": 19,
   "id": "e65fc886",
   "metadata": {
    "ExecuteTime": {
     "end_time": "2021-06-17T09:48:40.822413Z",
     "start_time": "2021-06-17T09:48:40.775882Z"
    },
    "scrolled": false
   },
   "outputs": [
    {
     "name": "stdout",
     "output_type": "stream",
     "text": [
      "Classification report (BOW):\n",
      "              precision    recall  f1-score   support\n",
      "\n",
      "           1       0.77      0.72      0.75       319\n",
      "           2       0.65      0.76      0.70       389\n",
      "           3       0.80      0.62      0.70       394\n",
      "           4       0.70      0.68      0.69       392\n",
      "           5       0.77      0.78      0.77       385\n",
      "           6       0.86      0.81      0.83       395\n",
      "           7       0.70      0.91      0.79       390\n",
      "           8       0.85      0.82      0.84       396\n",
      "           9       0.86      0.92      0.89       398\n",
      "          10       0.88      0.89      0.88       397\n",
      "          11       0.95      0.93      0.94       399\n",
      "          12       0.87      0.87      0.87       396\n",
      "          13       0.66      0.70      0.68       393\n",
      "          14       0.85      0.77      0.81       396\n",
      "          15       0.82      0.87      0.84       394\n",
      "          16       0.78      0.89      0.83       398\n",
      "          17       0.71      0.84      0.77       364\n",
      "          18       0.94      0.82      0.87       376\n",
      "          19       0.75      0.57      0.65       310\n",
      "          20       0.69      0.53      0.60       251\n",
      "\n",
      "    accuracy                           0.79      7532\n",
      "   macro avg       0.79      0.78      0.78      7532\n",
      "weighted avg       0.80      0.79      0.79      7532\n",
      "\n",
      "Accuracy score (BOW):\n",
      "0.7920870950610728\n"
     ]
    }
   ],
   "source": [
    "print(\"Classification report (BOW):\")\n",
    "print(\n",
    "    sklearn.metrics.classification_report(test_labels[: len(bow_predict)], bow_predict)\n",
    ")\n",
    "print(\"Accuracy score (BOW):\")\n",
    "print(sklearn.metrics.accuracy_score(test_labels[: len(bow_predict)], bow_predict))"
   ]
  },
  {
   "cell_type": "code",
   "execution_count": 20,
   "id": "7e23f1e6",
   "metadata": {
    "ExecuteTime": {
     "end_time": "2021-06-17T09:48:40.846682Z",
     "start_time": "2021-06-17T09:48:40.822413Z"
    }
   },
   "outputs": [
    {
     "data": {
      "text/plain": [
       "268435456"
      ]
     },
     "execution_count": 20,
     "metadata": {},
     "output_type": "execute_result"
    }
   ],
   "source": [
    "bow_model.num_weights()"
   ]
  },
  {
   "cell_type": "code",
   "execution_count": 21,
   "id": "86b0f483",
   "metadata": {
    "ExecuteTime": {
     "end_time": "2021-06-17T09:48:40.858711Z",
     "start_time": "2021-06-17T09:48:40.846682Z"
    }
   },
   "outputs": [
    {
     "data": {
      "text/plain": [
       "8"
      ]
     },
     "execution_count": 21,
     "metadata": {},
     "output_type": "execute_result"
    }
   ],
   "source": [
    "bow_model.predict(vw_string)"
   ]
  },
  {
   "cell_type": "markdown",
   "id": "970132f1",
   "metadata": {},
   "source": [
    "----------\n",
    "## Vectors not normalised, BOW features included, duplicates and tokens with no alphabetic chars removed\n",
    "\n",
    "```\n",
    "Classification report (Vector):\n",
    "              precision    recall  f1-score   support\n",
    "\n",
    "           1       0.89      0.86      0.88       209\n",
    "           2       0.78      0.76      0.77       253\n",
    "           3       0.79      0.84      0.81       250\n",
    "           4       0.81      0.74      0.77       238\n",
    "           5       0.85      0.87      0.86       233\n",
    "           6       0.89      0.87      0.88       237\n",
    "           7       0.85      0.83      0.84       245\n",
    "           8       0.88      0.88      0.88       241\n",
    "           9       0.94      0.91      0.92       244\n",
    "          10       0.96      0.93      0.94       247\n",
    "          11       0.98      0.93      0.95       246\n",
    "          12       0.96      0.89      0.92       240\n",
    "          13       0.80      0.89      0.84       223\n",
    "          14       0.87      0.90      0.88       248\n",
    "          15       0.88      0.93      0.91       258\n",
    "          16       0.88      0.92      0.90       250\n",
    "          17       0.91      0.87      0.89       224\n",
    "          18       0.97      0.88      0.92       255\n",
    "          19       0.90      0.87      0.88       200\n",
    "          20       0.68      0.86      0.76       166\n",
    "\n",
    "    accuracy                           0.87      4707\n",
    "   macro avg       0.87      0.87      0.87      4707\n",
    "weighted avg       0.88      0.87      0.87      4707\n",
    "\n",
    "Accuracy score (Vector):\n",
    "0.8721053749734438\n",
    "-----\n",
    "Classification report (BOW):\n",
    "              precision    recall  f1-score   support\n",
    "\n",
    "           1       0.92      0.88      0.90       209\n",
    "           2       0.79      0.82      0.80       253\n",
    "           3       0.82      0.86      0.84       250\n",
    "           4       0.84      0.77      0.80       238\n",
    "           5       0.89      0.88      0.89       233\n",
    "           6       0.91      0.90      0.90       237\n",
    "           7       0.80      0.89      0.84       245\n",
    "           8       0.93      0.91      0.92       241\n",
    "           9       0.95      0.93      0.94       244\n",
    "          10       0.97      0.96      0.96       247\n",
    "          11       0.98      0.96      0.97       246\n",
    "          12       0.95      0.93      0.94       240\n",
    "          13       0.85      0.87      0.86       223\n",
    "          14       0.93      0.94      0.94       248\n",
    "          15       0.93      0.95      0.94       258\n",
    "          16       0.92      0.95      0.94       250\n",
    "          17       0.94      0.92      0.93       224\n",
    "          18       0.98      0.94      0.96       255\n",
    "          19       0.94      0.88      0.91       200\n",
    "          20       0.81      0.83      0.82       166\n",
    "\n",
    "    accuracy                           0.90      4707\n",
    "   macro avg       0.90      0.90      0.90      4707\n",
    "weighted avg       0.90      0.90      0.90      4707\n",
    "\n",
    "Accuracy score (BOW):\n",
    "0.9009985128531973\n",
    "```"
   ]
  },
  {
   "cell_type": "markdown",
   "id": "efc40401",
   "metadata": {},
   "source": [
    "## Normalised vectors\n",
    "\n",
    "```\n",
    "Classification report (Vector):\n",
    "              precision    recall  f1-score   support\n",
    "\n",
    "           1       0.87      0.89      0.88       209\n",
    "           2       0.79      0.84      0.81       253\n",
    "           3       0.89      0.84      0.86       250\n",
    "           4       0.82      0.78      0.80       238\n",
    "           5       0.92      0.88      0.90       233\n",
    "           6       0.89      0.90      0.90       237\n",
    "           7       0.84      0.89      0.87       245\n",
    "           8       0.92      0.90      0.91       241\n",
    "           9       0.96      0.93      0.95       244\n",
    "          10       0.98      0.97      0.98       247\n",
    "          11       0.98      0.97      0.98       246\n",
    "          12       0.97      0.93      0.95       240\n",
    "          13       0.80      0.89      0.84       223\n",
    "          14       0.91      0.93      0.92       248\n",
    "          15       0.95      0.96      0.95       258\n",
    "          16       0.90      0.96      0.93       250\n",
    "          17       0.94      0.93      0.93       224\n",
    "          18       0.98      0.94      0.96       255\n",
    "          19       0.91      0.87      0.89       200\n",
    "          20       0.85      0.84      0.85       166\n",
    "\n",
    "    accuracy                           0.90      4707\n",
    "   macro avg       0.90      0.90      0.90      4707\n",
    "weighted avg       0.91      0.90      0.90      4707\n",
    "\n",
    "Accuracy score (Vector):\n",
    "0.9041852560016996\n",
    "```"
   ]
  },
  {
   "cell_type": "code",
   "execution_count": null,
   "id": "7758a63c",
   "metadata": {},
   "outputs": [],
   "source": []
  }
 ],
 "metadata": {
  "kernelspec": {
   "display_name": "Python 3 (ipykernel)",
   "language": "python",
   "name": "python3"
  },
  "language_info": {
   "codemirror_mode": {
    "name": "ipython",
    "version": 3
   },
   "file_extension": ".py",
   "mimetype": "text/x-python",
   "name": "python",
   "nbconvert_exporter": "python",
   "pygments_lexer": "ipython3",
   "version": "3.9.4"
  }
 },
 "nbformat": 4,
 "nbformat_minor": 5
}

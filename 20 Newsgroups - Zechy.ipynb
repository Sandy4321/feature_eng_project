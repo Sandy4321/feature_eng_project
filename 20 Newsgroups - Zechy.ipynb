{
 "cells": [
  {
   "cell_type": "markdown",
   "id": "cd6bdbcf",
   "metadata": {},
   "source": [
    "### 20 Newsgroups Experiment:\n",
    "\n",
    "- Vector + BOW features vs. Pure BOW features\n",
    "- Minimal pre-processing"
   ]
  },
  {
   "cell_type": "markdown",
   "id": "a3e51263",
   "metadata": {},
   "source": [
    "# Load Dataset"
   ]
  },
  {
   "cell_type": "code",
   "execution_count": 1,
   "id": "d704176c",
   "metadata": {
    "ExecuteTime": {
     "end_time": "2021-06-11T07:00:38.165148Z",
     "start_time": "2021-06-11T07:00:35.608955Z"
    }
   },
   "outputs": [],
   "source": [
    "import spacy\n",
    "\n",
    "spacy_nlp = spacy.load(\"en_core_web_md\")"
   ]
  },
  {
   "cell_type": "code",
   "execution_count": 2,
   "id": "7c4d0622",
   "metadata": {
    "ExecuteTime": {
     "end_time": "2021-06-11T07:00:44.690350Z",
     "start_time": "2021-06-11T07:00:38.168148Z"
    }
   },
   "outputs": [],
   "source": [
    "import sklearn.datasets\n",
    "\n",
    "newsgroups = sklearn.datasets.load_files(\"20news_noDup\", encoding=\"ANSI\")"
   ]
  },
  {
   "cell_type": "code",
   "execution_count": 3,
   "id": "d9eb4c05",
   "metadata": {
    "ExecuteTime": {
     "end_time": "2021-06-11T07:00:44.768626Z",
     "start_time": "2021-06-11T07:00:44.690350Z"
    }
   },
   "outputs": [],
   "source": [
    "from tqdm.auto import tqdm"
   ]
  },
  {
   "cell_type": "code",
   "execution_count": 4,
   "id": "fdeaa7cd",
   "metadata": {
    "ExecuteTime": {
     "end_time": "2021-06-11T07:00:44.784622Z",
     "start_time": "2021-06-11T07:00:44.772632Z"
    }
   },
   "outputs": [],
   "source": [
    "import numpy as np"
   ]
  },
  {
   "cell_type": "code",
   "execution_count": 5,
   "id": "81e7c48e",
   "metadata": {
    "ExecuteTime": {
     "end_time": "2021-06-11T07:00:46.207212Z",
     "start_time": "2021-06-11T07:00:44.786625Z"
    }
   },
   "outputs": [],
   "source": [
    "import pandas as pd\n",
    "\n",
    "pd_df = pd.DataFrame(data=[newsgroups.data, newsgroups.target]).T\n",
    "pd_df.columns = [\"text\", \"target\"]\n",
    "pd_df[\"text\"] = pd_df[\"text\"].astype(\"string\")\n",
    "# VW multiclass: Target cannot be 0\n",
    "pd_df[\"target\"] = [x + 1 for x in pd_df[\"target\"]]"
   ]
  },
  {
   "cell_type": "code",
   "execution_count": 6,
   "id": "c3417a2c",
   "metadata": {
    "ExecuteTime": {
     "end_time": "2021-06-11T07:00:46.238797Z",
     "start_time": "2021-06-11T07:00:46.207212Z"
    }
   },
   "outputs": [
    {
     "data": {
      "text/html": [
       "<div>\n",
       "<style scoped>\n",
       "    .dataframe tbody tr th:only-of-type {\n",
       "        vertical-align: middle;\n",
       "    }\n",
       "\n",
       "    .dataframe tbody tr th {\n",
       "        vertical-align: top;\n",
       "    }\n",
       "\n",
       "    .dataframe thead th {\n",
       "        text-align: right;\n",
       "    }\n",
       "</style>\n",
       "<table border=\"1\" class=\"dataframe\">\n",
       "  <thead>\n",
       "    <tr style=\"text-align: right;\">\n",
       "      <th></th>\n",
       "      <th>text</th>\n",
       "      <th>target</th>\n",
       "    </tr>\n",
       "  </thead>\n",
       "  <tbody>\n",
       "    <tr>\n",
       "      <th>0</th>\n",
       "      <td>From: haston@utkvx.utk.edu (Haston, Donald Way...</td>\n",
       "      <td>2</td>\n",
       "    </tr>\n",
       "    <tr>\n",
       "      <th>1</th>\n",
       "      <td>From: jr0930@eve.albany.edu (REGAN JAMES P)\r\n",
       "S...</td>\n",
       "      <td>2</td>\n",
       "    </tr>\n",
       "    <tr>\n",
       "      <th>2</th>\n",
       "      <td>From: cfaehl@vesta.unm.edu (Chris Faehl)\r\n",
       "Subj...</td>\n",
       "      <td>1</td>\n",
       "    </tr>\n",
       "    <tr>\n",
       "      <th>3</th>\n",
       "      <td>From: sera@zuma.UUCP (Serdar Argic)\r\n",
       "Subject: ...</td>\n",
       "      <td>18</td>\n",
       "    </tr>\n",
       "    <tr>\n",
       "      <th>4</th>\n",
       "      <td>From: boyle@cactus.org (Craig Boyle)\r\n",
       "Subject:...</td>\n",
       "      <td>8</td>\n",
       "    </tr>\n",
       "    <tr>\n",
       "      <th>...</th>\n",
       "      <td>...</td>\n",
       "      <td>...</td>\n",
       "    </tr>\n",
       "    <tr>\n",
       "      <th>95</th>\n",
       "      <td>From: kcochran@nyx.cs.du.edu (Keith \"Justified...</td>\n",
       "      <td>20</td>\n",
       "    </tr>\n",
       "    <tr>\n",
       "      <th>96</th>\n",
       "      <td>From: jyaruss@hamp.hampshire.edu\r\n",
       "Subject: Mis...</td>\n",
       "      <td>9</td>\n",
       "    </tr>\n",
       "    <tr>\n",
       "      <th>97</th>\n",
       "      <td>From: mse@cc.bellcore.com (25836-michael evenc...</td>\n",
       "      <td>10</td>\n",
       "    </tr>\n",
       "    <tr>\n",
       "      <th>98</th>\n",
       "      <td>From: rogerh@Autodesk.COM (Roger Hupfauer)\r\n",
       "Su...</td>\n",
       "      <td>8</td>\n",
       "    </tr>\n",
       "    <tr>\n",
       "      <th>99</th>\n",
       "      <td>From: mss@netcom.com (Mark Singer)\r\n",
       "Subject: R...</td>\n",
       "      <td>10</td>\n",
       "    </tr>\n",
       "  </tbody>\n",
       "</table>\n",
       "<p>100 rows × 2 columns</p>\n",
       "</div>"
      ],
      "text/plain": [
       "                                                 text  target\n",
       "0   From: haston@utkvx.utk.edu (Haston, Donald Way...       2\n",
       "1   From: jr0930@eve.albany.edu (REGAN JAMES P)\n",
       "S...       2\n",
       "2   From: cfaehl@vesta.unm.edu (Chris Faehl)\n",
       "Subj...       1\n",
       "3   From: sera@zuma.UUCP (Serdar Argic)\n",
       "Subject: ...      18\n",
       "4   From: boyle@cactus.org (Craig Boyle)\n",
       "Subject:...       8\n",
       "..                                                ...     ...\n",
       "95  From: kcochran@nyx.cs.du.edu (Keith \"Justified...      20\n",
       "96  From: jyaruss@hamp.hampshire.edu\n",
       "Subject: Mis...       9\n",
       "97  From: mse@cc.bellcore.com (25836-michael evenc...      10\n",
       "98  From: rogerh@Autodesk.COM (Roger Hupfauer)\n",
       "Su...       8\n",
       "99  From: mss@netcom.com (Mark Singer)\n",
       "Subject: R...      10\n",
       "\n",
       "[100 rows x 2 columns]"
      ]
     },
     "execution_count": 6,
     "metadata": {},
     "output_type": "execute_result"
    }
   ],
   "source": [
    "# Preview first 100 rows\n",
    "pd_df[:100]"
   ]
  },
  {
   "cell_type": "markdown",
   "id": "829e0fe4",
   "metadata": {},
   "source": [
    "# Add Token Vectors"
   ]
  },
  {
   "cell_type": "code",
   "execution_count": 7,
   "id": "dd67897d",
   "metadata": {
    "ExecuteTime": {
     "end_time": "2021-06-11T07:00:46.254800Z",
     "start_time": "2021-06-11T07:00:46.241800Z"
    }
   },
   "outputs": [],
   "source": [
    "import pickle"
   ]
  },
  {
   "cell_type": "code",
   "execution_count": 8,
   "id": "ff9b7c2f",
   "metadata": {
    "ExecuteTime": {
     "end_time": "2021-06-11T07:00:46.270831Z",
     "start_time": "2021-06-11T07:00:46.256800Z"
    }
   },
   "outputs": [],
   "source": [
    "# Uncomment for first load\n",
    "\n",
    "# vectorised_docs = []\n",
    "# with spacy_nlp.select_pipes(enable=[\"tok2vec\"]):\n",
    "#     for doc in tqdm(spacy_nlp.pipe(pd_df[\"text\"]), total=len(pd_df)):\n",
    "#         vectorised_docs.append(doc)\n",
    "\n",
    "# with open(\"vectorised_docs.pkl\", \"wb\") as fp:\n",
    "#     pickle.dump(vectorised_docs, fp)"
   ]
  },
  {
   "cell_type": "code",
   "execution_count": 9,
   "id": "695f14c6",
   "metadata": {
    "ExecuteTime": {
     "end_time": "2021-06-11T07:01:30.503451Z",
     "start_time": "2021-06-11T07:00:46.276834Z"
    }
   },
   "outputs": [],
   "source": [
    "# Use pre-saved vectorised spacy Docs\n",
    "with open(\"vectorised_docs.pkl\", \"rb\") as fp:\n",
    "    vectorised_docs = pickle.load(fp)"
   ]
  },
  {
   "cell_type": "code",
   "execution_count": 10,
   "id": "51396867",
   "metadata": {
    "ExecuteTime": {
     "end_time": "2021-06-11T07:01:30.549422Z",
     "start_time": "2021-06-11T07:01:30.503451Z"
    }
   },
   "outputs": [],
   "source": [
    "# Add to DataFrame\n",
    "pd_df[\"vectorised\"] = vectorised_docs"
   ]
  },
  {
   "cell_type": "code",
   "execution_count": 128,
   "id": "828ba7be",
   "metadata": {
    "ExecuteTime": {
     "end_time": "2021-06-11T08:45:43.243466Z",
     "start_time": "2021-06-11T08:45:43.223194Z"
    }
   },
   "outputs": [
    {
     "name": "stdout",
     "output_type": "stream",
     "text": [
      "0.41479465 0.7338455\n"
     ]
    }
   ],
   "source": [
    "# Vector normalisation sample:\n",
    "# \"From\", the first token in doc 7033, normalised\n",
    "normalised = ((df_train[\"vectorised\"][7033][0].vector / df_train[\"vectorised\"][7033][0].vector_norm) + 1) / 2\n",
    "print(min(normalised), max(normalised))"
   ]
  },
  {
   "cell_type": "markdown",
   "id": "91fd52f6",
   "metadata": {},
   "source": [
    "# Train/Test Split"
   ]
  },
  {
   "cell_type": "code",
   "execution_count": 12,
   "id": "dc1903a8",
   "metadata": {
    "ExecuteTime": {
     "end_time": "2021-06-11T07:01:30.659216Z",
     "start_time": "2021-06-11T07:01:30.568221Z"
    }
   },
   "outputs": [],
   "source": [
    "import sklearn.model_selection\n",
    "\n",
    "df_train, df_test = sklearn.model_selection.train_test_split(\n",
    "    pd_df, test_size=0.25, random_state=1\n",
    ")"
   ]
  },
  {
   "cell_type": "markdown",
   "id": "b78b478c",
   "metadata": {},
   "source": [
    "# VW"
   ]
  },
  {
   "cell_type": "code",
   "execution_count": 129,
   "id": "707f2369",
   "metadata": {
    "ExecuteTime": {
     "end_time": "2021-06-11T08:46:33.016832Z",
     "start_time": "2021-06-11T08:46:32.999681Z"
    }
   },
   "outputs": [],
   "source": [
    "from vowpalwabbit import pyvw"
   ]
  },
  {
   "cell_type": "code",
   "execution_count": 130,
   "id": "b8255300",
   "metadata": {
    "ExecuteTime": {
     "end_time": "2021-06-11T08:46:33.032860Z",
     "start_time": "2021-06-11T08:46:33.018859Z"
    }
   },
   "outputs": [],
   "source": [
    "# baseline model\n",
    "vw_opts = {\n",
    "    # General options\n",
    "    \"random_seed\": 1,\n",
    "    # Input options\n",
    "    # Output options\n",
    "    \"progress\": 50,\n",
    "    # Example Manipulation options\n",
    "    # Update rule options\n",
    "    \"loss_function\": \"logistic\",\n",
    "    # Weight options\n",
    "    \"bit_precision\": 28,\n",
    "    # Holdout options\n",
    "    # Feature namespace options\n",
    "    # Multiclass options\n",
    "    \"oaa\": 20\n",
    "    # Other options\n",
    "}"
   ]
  },
  {
   "cell_type": "code",
   "execution_count": 131,
   "id": "1bb1c567",
   "metadata": {
    "ExecuteTime": {
     "end_time": "2021-06-11T08:46:33.678942Z",
     "start_time": "2021-06-11T08:46:33.035859Z"
    }
   },
   "outputs": [],
   "source": [
    "# We will run both models at the same time\n",
    "vector_model = pyvw.vw(**vw_opts)\n",
    "bow_model = pyvw.vw(**vw_opts)"
   ]
  },
  {
   "cell_type": "code",
   "execution_count": 132,
   "id": "07b7321f",
   "metadata": {
    "ExecuteTime": {
     "end_time": "2021-06-11T08:46:33.694416Z",
     "start_time": "2021-06-11T08:46:33.682426Z"
    }
   },
   "outputs": [],
   "source": [
    "def doc2namespaces(doc):\n",
    "    \"\"\"\n",
    "    Takes a spacy Doc, returns the vector and bow feature strings in VW format\n",
    "    \"\"\"\n",
    "    # Vector namespaces\n",
    "    vector_ns = []\n",
    "    \n",
    "    # Pre-processing -- Remove:\n",
    "    # (1) Empty tokens and vectors\n",
    "    # (2) Non-alphabetic tokens\n",
    "    # (3) VW special characters\n",
    "    # (4) Duplicate tokens\n",
    "    seen_tokens = set()\n",
    "    \n",
    "    # This is a list of (<text>, <vector>)\n",
    "    vector_tuples = []\n",
    "    for token in doc:\n",
    "        # Handle VW special chars\n",
    "        text = token.text.replace(\":\", \"\").replace(\"|\", \"\").strip()\n",
    "        \n",
    "        # Only keep non-empty alphabetic strings/vectors\n",
    "        if text and text.isalpha() and text not in seen_tokens and np.any(token.vector):\n",
    "            seen_tokens.add(text)\n",
    "            \n",
    "            # Vector normalisation into the range [0,1]\n",
    "            vector = ((token.vector / token.vector_norm) + 1) / 2\n",
    "            vector_tuples.append((text, vector.astype(\"float64\")))\n",
    "\n",
    "    for dimension in range(300):\n",
    "        # 300 dimensions produced by spacy tok2vec\n",
    "        vector_ns.append(f\"|vector_d{dimension}\")\n",
    "\n",
    "        # List comprehension for building the feature string for this dimension\n",
    "        vector_ns += [f\"{text}:{vector[dimension]}\" for text, vector in vector_tuples]\n",
    "\n",
    "    # BOW namespace\n",
    "    bow_features = [text for text, _ in vector_tuples]\n",
    "    bow_ns = [\"|bow\"] + bow_features\n",
    "    \n",
    "    return vector_ns, bow_ns"
   ]
  },
  {
   "cell_type": "code",
   "execution_count": 133,
   "id": "d9db47b4",
   "metadata": {
    "ExecuteTime": {
     "end_time": "2021-06-11T09:10:12.460733Z",
     "start_time": "2021-06-11T08:46:33.697479Z"
    }
   },
   "outputs": [
    {
     "data": {
      "application/json": {
       "ascii": false,
       "bar_format": null,
       "colour": null,
       "elapsed": 0.016992568969726562,
       "initial": 0,
       "n": 0,
       "ncols": null,
       "nrows": null,
       "postfix": null,
       "prefix": "",
       "rate": null,
       "total": 14121,
       "unit": "it",
       "unit_divisor": 1000,
       "unit_scale": false
      },
      "application/vnd.jupyter.widget-view+json": {
       "model_id": "41e09c3dd9574d0aa4ffb6d35f8f61a7",
       "version_major": 2,
       "version_minor": 0
      },
      "text/plain": [
       "  0%|          | 0/14121 [00:00<?, ?it/s]"
      ]
     },
     "metadata": {},
     "output_type": "display_data"
    }
   ],
   "source": [
    "# Training\n",
    "for row in tqdm(df_train.itertuples(), total=len(df_train)):\n",
    "    vector_ns, bow_ns = doc2namespaces(row.vectorised)\n",
    "\n",
    "    # Vector model\n",
    "    vw_string_builder = [f\"{row.target}\"] + vector_ns + bow_ns\n",
    "    vw_string = \" \".join(vw_string_builder)\n",
    "    vector_model.learn(vw_string)\n",
    "\n",
    "    # BOW model\n",
    "    vw_string_builder = [f\"{row.target}\"] + bow_ns\n",
    "    vw_string = \" \".join(vw_string_builder)\n",
    "    bow_model.learn(vw_string)"
   ]
  },
  {
   "cell_type": "code",
   "execution_count": 135,
   "id": "ec43a1ef",
   "metadata": {
    "ExecuteTime": {
     "end_time": "2021-06-11T09:15:58.882764Z",
     "start_time": "2021-06-11T09:10:12.495721Z"
    }
   },
   "outputs": [
    {
     "data": {
      "application/json": {
       "ascii": false,
       "bar_format": null,
       "colour": null,
       "elapsed": 0.017971515655517578,
       "initial": 0,
       "n": 0,
       "ncols": null,
       "nrows": null,
       "postfix": null,
       "prefix": "",
       "rate": null,
       "total": 4707,
       "unit": "it",
       "unit_divisor": 1000,
       "unit_scale": false
      },
      "application/vnd.jupyter.widget-view+json": {
       "model_id": "f8f2b28b8c2b49cdb2049ce0ce27918d",
       "version_major": 2,
       "version_minor": 0
      },
      "text/plain": [
       "  0%|          | 0/4707 [00:00<?, ?it/s]"
      ]
     },
     "metadata": {},
     "output_type": "display_data"
    }
   ],
   "source": [
    "# Testing\n",
    "test_labels = df_test[\"target\"]\n",
    "vector_predict = []\n",
    "bow_predict = []\n",
    "\n",
    "for row in tqdm(df_test.itertuples(), total=len(df_test)):\n",
    "    vector_ns, bow_ns = doc2namespaces(row.vectorised)\n",
    "\n",
    "    # Vector model\n",
    "    vw_string_builder = vector_ns + bow_ns\n",
    "    vw_string = \" \".join(vw_string_builder)\n",
    "    vector_predict.append(vector_model.predict(vw_string))\n",
    "\n",
    "    # BOW model\n",
    "    vw_string_builder = bow_ns\n",
    "    vw_string = \" \".join(vw_string_builder)\n",
    "    bow_predict.append(bow_model.predict(vw_string))"
   ]
  },
  {
   "cell_type": "markdown",
   "id": "3c5900ea",
   "metadata": {},
   "source": [
    "# Evaluation"
   ]
  },
  {
   "cell_type": "code",
   "execution_count": 136,
   "id": "ef4c40ca",
   "metadata": {
    "ExecuteTime": {
     "end_time": "2021-06-11T09:15:58.898831Z",
     "start_time": "2021-06-11T09:15:58.882764Z"
    }
   },
   "outputs": [],
   "source": [
    "import sklearn.metrics"
   ]
  },
  {
   "cell_type": "code",
   "execution_count": 137,
   "id": "3196c8c9",
   "metadata": {
    "ExecuteTime": {
     "end_time": "2021-06-11T09:15:58.930833Z",
     "start_time": "2021-06-11T09:15:58.900800Z"
    }
   },
   "outputs": [
    {
     "name": "stdout",
     "output_type": "stream",
     "text": [
      "Classification report (Vector):\n",
      "              precision    recall  f1-score   support\n",
      "\n",
      "           1       0.82      0.84      0.83       209\n",
      "           2       0.83      0.85      0.84       253\n",
      "           3       0.85      0.82      0.83       250\n",
      "           4       0.83      0.76      0.79       238\n",
      "           5       0.87      0.87      0.87       233\n",
      "           6       0.93      0.89      0.91       237\n",
      "           7       0.80      0.91      0.85       245\n",
      "           8       0.91      0.94      0.93       241\n",
      "           9       0.94      0.92      0.93       244\n",
      "          10       0.98      0.97      0.97       247\n",
      "          11       0.98      0.97      0.98       246\n",
      "          12       0.98      0.90      0.94       240\n",
      "          13       0.84      0.88      0.86       223\n",
      "          14       0.91      0.93      0.92       248\n",
      "          15       0.95      0.95      0.95       258\n",
      "          16       0.88      0.95      0.91       250\n",
      "          17       0.93      0.94      0.94       224\n",
      "          18       0.97      0.94      0.95       255\n",
      "          19       0.91      0.87      0.89       200\n",
      "          20       0.81      0.79      0.80       166\n",
      "\n",
      "    accuracy                           0.90      4707\n",
      "   macro avg       0.90      0.89      0.90      4707\n",
      "weighted avg       0.90      0.90      0.90      4707\n",
      "\n",
      "Accuracy score (Vector):\n",
      "0.8973868706182282\n"
     ]
    }
   ],
   "source": [
    "print(\"Classification report (Vector):\")\n",
    "print(\n",
    "    sklearn.metrics.classification_report(\n",
    "        test_labels[: len(vector_predict)], vector_predict\n",
    "    )\n",
    ")\n",
    "print(\"Accuracy score (Vector):\")\n",
    "print(\n",
    "    sklearn.metrics.accuracy_score(test_labels[: len(vector_predict)], vector_predict)\n",
    ")"
   ]
  },
  {
   "cell_type": "code",
   "execution_count": 138,
   "id": "e65fc886",
   "metadata": {
    "ExecuteTime": {
     "end_time": "2021-06-11T09:15:58.962928Z",
     "start_time": "2021-06-11T09:15:58.933816Z"
    },
    "scrolled": false
   },
   "outputs": [
    {
     "name": "stdout",
     "output_type": "stream",
     "text": [
      "Classification report (BOW):\n",
      "              precision    recall  f1-score   support\n",
      "\n",
      "           1       0.90      0.84      0.87       209\n",
      "           2       0.77      0.79      0.78       253\n",
      "           3       0.77      0.82      0.80       250\n",
      "           4       0.79      0.74      0.76       238\n",
      "           5       0.82      0.85      0.83       233\n",
      "           6       0.90      0.86      0.88       237\n",
      "           7       0.75      0.90      0.82       245\n",
      "           8       0.95      0.92      0.93       241\n",
      "           9       0.93      0.93      0.93       244\n",
      "          10       0.95      0.96      0.95       247\n",
      "          11       0.98      0.97      0.97       246\n",
      "          12       0.95      0.90      0.93       240\n",
      "          13       0.86      0.85      0.86       223\n",
      "          14       0.94      0.94      0.94       248\n",
      "          15       0.94      0.93      0.94       258\n",
      "          16       0.88      0.94      0.91       250\n",
      "          17       0.94      0.93      0.93       224\n",
      "          18       0.98      0.92      0.95       255\n",
      "          19       0.92      0.85      0.89       200\n",
      "          20       0.78      0.75      0.77       166\n",
      "\n",
      "    accuracy                           0.88      4707\n",
      "   macro avg       0.88      0.88      0.88      4707\n",
      "weighted avg       0.89      0.88      0.88      4707\n",
      "\n",
      "Accuracy score (BOW):\n",
      "0.8831527512215849\n"
     ]
    }
   ],
   "source": [
    "print(\"Classification report (BOW):\")\n",
    "print(\n",
    "    sklearn.metrics.classification_report(test_labels[: len(bow_predict)], bow_predict)\n",
    ")\n",
    "print(\"Accuracy score (BOW):\")\n",
    "print(sklearn.metrics.accuracy_score(test_labels[: len(bow_predict)], bow_predict))"
   ]
  },
  {
   "cell_type": "markdown",
   "id": "970132f1",
   "metadata": {},
   "source": [
    "----------\n",
    "## Vectors with normalisation into [0,1], BOW features included, duplicates and non-alphabetic tokens removed\n",
    "\n",
    "### (5000 train samples, 500 test samples)\n",
    "\n",
    "```\n",
    "Classification report (Vector):\n",
    "              precision    recall  f1-score   support\n",
    "\n",
    "           1       0.85      0.81      0.83        21\n",
    "           2       0.63      0.77      0.70        31\n",
    "           3       0.90      0.84      0.87        32\n",
    "           4       0.68      0.76      0.72        25\n",
    "           5       0.95      0.86      0.90        21\n",
    "           6       0.84      0.67      0.74        24\n",
    "           7       0.96      0.92      0.94        24\n",
    "           8       0.76      0.96      0.85        27\n",
    "           9       0.83      0.79      0.81        19\n",
    "          10       1.00      0.94      0.97        31\n",
    "          11       0.91      0.97      0.94        32\n",
    "          12       1.00      1.00      1.00        25\n",
    "          13       0.89      0.89      0.89        27\n",
    "          14       0.84      0.90      0.87        29\n",
    "          15       0.96      0.86      0.91        28\n",
    "          16       0.88      0.92      0.90        24\n",
    "          17       0.83      0.96      0.89        25\n",
    "          18       0.80      0.84      0.82        19\n",
    "          19       0.95      0.73      0.83        26\n",
    "          20       1.00      0.60      0.75        10\n",
    "\n",
    "    accuracy                           0.86       500\n",
    "   macro avg       0.87      0.85      0.86       500\n",
    "weighted avg       0.87      0.86      0.86       500\n",
    "\n",
    "Accuracy score (Vector):\n",
    "0.86\n",
    "-----\n",
    "Classification report (BOW):\n",
    "              precision    recall  f1-score   support\n",
    "\n",
    "           1       0.78      0.86      0.82        21\n",
    "           2       0.67      0.77      0.72        31\n",
    "           3       0.81      0.81      0.81        32\n",
    "           4       0.78      0.72      0.75        25\n",
    "           5       0.86      0.86      0.86        21\n",
    "           6       0.78      0.88      0.82        24\n",
    "           7       0.81      0.88      0.84        24\n",
    "           8       0.74      0.96      0.84        27\n",
    "           9       0.82      0.74      0.78        19\n",
    "          10       0.97      0.90      0.93        31\n",
    "          11       0.91      0.91      0.91        32\n",
    "          12       0.93      1.00      0.96        25\n",
    "          13       0.88      0.78      0.82        27\n",
    "          14       0.86      0.83      0.84        29\n",
    "          15       0.96      0.79      0.86        28\n",
    "          16       0.85      0.92      0.88        24\n",
    "          17       0.86      1.00      0.93        25\n",
    "          18       0.87      0.68      0.76        19\n",
    "          19       0.86      0.73      0.79        26\n",
    "          20       1.00      0.50      0.67        10\n",
    "\n",
    "    accuracy                           0.84       500\n",
    "   macro avg       0.85      0.83      0.83       500\n",
    "weighted avg       0.85      0.84      0.84       500\n",
    "\n",
    "Accuracy score (BOW):\n",
    "0.838\n",
    "```"
   ]
  },
  {
   "cell_type": "markdown",
   "id": "4884bd71",
   "metadata": {},
   "source": [
    "## (Full train/test set)\n",
    "\n",
    "```\n",
    "Classification report (Vector):\n",
    "              precision    recall  f1-score   support\n",
    "\n",
    "           1       0.82      0.84      0.83       209\n",
    "           2       0.83      0.85      0.84       253\n",
    "           3       0.85      0.82      0.83       250\n",
    "           4       0.83      0.76      0.79       238\n",
    "           5       0.87      0.87      0.87       233\n",
    "           6       0.93      0.89      0.91       237\n",
    "           7       0.80      0.91      0.85       245\n",
    "           8       0.91      0.94      0.93       241\n",
    "           9       0.94      0.92      0.93       244\n",
    "          10       0.98      0.97      0.97       247\n",
    "          11       0.98      0.97      0.98       246\n",
    "          12       0.98      0.90      0.94       240\n",
    "          13       0.84      0.88      0.86       223\n",
    "          14       0.91      0.93      0.92       248\n",
    "          15       0.95      0.95      0.95       258\n",
    "          16       0.88      0.95      0.91       250\n",
    "          17       0.93      0.94      0.94       224\n",
    "          18       0.97      0.94      0.95       255\n",
    "          19       0.91      0.87      0.89       200\n",
    "          20       0.81      0.79      0.80       166\n",
    "\n",
    "    accuracy                           0.90      4707\n",
    "   macro avg       0.90      0.89      0.90      4707\n",
    "weighted avg       0.90      0.90      0.90      4707\n",
    "\n",
    "Accuracy score (Vector):\n",
    "0.8973868706182282\n",
    "-----\n",
    "Classification report (BOW):\n",
    "              precision    recall  f1-score   support\n",
    "\n",
    "           1       0.90      0.84      0.87       209\n",
    "           2       0.77      0.79      0.78       253\n",
    "           3       0.77      0.82      0.80       250\n",
    "           4       0.79      0.74      0.76       238\n",
    "           5       0.82      0.85      0.83       233\n",
    "           6       0.90      0.86      0.88       237\n",
    "           7       0.75      0.90      0.82       245\n",
    "           8       0.95      0.92      0.93       241\n",
    "           9       0.93      0.93      0.93       244\n",
    "          10       0.95      0.96      0.95       247\n",
    "          11       0.98      0.97      0.97       246\n",
    "          12       0.95      0.90      0.93       240\n",
    "          13       0.86      0.85      0.86       223\n",
    "          14       0.94      0.94      0.94       248\n",
    "          15       0.94      0.93      0.94       258\n",
    "          16       0.88      0.94      0.91       250\n",
    "          17       0.94      0.93      0.93       224\n",
    "          18       0.98      0.92      0.95       255\n",
    "          19       0.92      0.85      0.89       200\n",
    "          20       0.78      0.75      0.77       166\n",
    "\n",
    "    accuracy                           0.88      4707\n",
    "   macro avg       0.88      0.88      0.88      4707\n",
    "weighted avg       0.89      0.88      0.88      4707\n",
    "\n",
    "Accuracy score (BOW):\n",
    "0.8831527512215849\n",
    "```"
   ]
  },
  {
   "cell_type": "code",
   "execution_count": null,
   "id": "e2acc9d6",
   "metadata": {},
   "outputs": [],
   "source": []
  }
 ],
 "metadata": {
  "kernelspec": {
   "display_name": "Python 3 (ipykernel)",
   "language": "python",
   "name": "python3"
  },
  "language_info": {
   "codemirror_mode": {
    "name": "ipython",
    "version": 3
   },
   "file_extension": ".py",
   "mimetype": "text/x-python",
   "name": "python",
   "nbconvert_exporter": "python",
   "pygments_lexer": "ipython3",
   "version": "3.9.4"
  }
 },
 "nbformat": 4,
 "nbformat_minor": 5
}
